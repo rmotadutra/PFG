{
 "cells": [
  {
   "cell_type": "code",
   "execution_count": null,
   "metadata": {},
   "outputs": [],
   "source": [
    "import segyio\n",
    "import numpy\n",
    "import matplotlib.pyplot as plt\n",
    "import plotly as ply\n",
    "import plotly.graph_objs as go"
   ]
  },
  {
   "cell_type": "code",
   "execution_count": null,
   "metadata": {},
   "outputs": [],
   "source": [
    "#definir o caminho do arquivo segy\n",
    "path = '../dados/InversaoMB_In274.sgy'\n",
    "\n",
    "#abrir o arquivo segy com a biblioteca segyio\n",
    "with segyio.open(path, 'r') as file:\n",
    "    #salvar todos os traços numa matriz\n",
    "    ma = file.trace.raw[:].T\n",
    "    #plt.imshow(file.trace.raw[:].T, aspect='auto')"
   ]
  },
  {
   "cell_type": "markdown",
   "metadata": {},
   "source": [
    "## Plotar os dados do arquivo segy com o plotly"
   ]
  },
  {
   "cell_type": "code",
   "execution_count": null,
   "metadata": {},
   "outputs": [],
   "source": [
    "# para fazer plots dentro do proprio jupyter sem a necessidade de conexao com a internet:\n",
    "ply.offline.init_notebook_mode(connected=True)\n",
    "\n",
    "# funcao go.Contour faz um countour plot usando como eixo x, o xi criado para coordenadas, como o eixo y, o zi\n",
    "# criado para profunidades, e como o eixo z o plot de valores RGBA da matriz ma.\n",
    "# além disso, na função go.countour está listando as configurações personalizadas para o colorbar\n",
    "\n",
    "imagem = go.Contour(z=ma)\n",
    "          \n",
    "\n",
    "# a função go.Layout personaliza o layout do gráfico, alterando o layout dos eixos, da legenda, etc.\n",
    "layout = go.Layout(\n",
    "                    #Personalizando o titulo do gráfico: texto, tamanho da fonte, cor do texto, etc.\n",
    "                    title=dict(text='Bacia do Amazonas',\n",
    "                              font=dict(size=18,\n",
    "                                        family='Arial, sans-serif',\n",
    "                                        color='white'\n",
    "                                        )\n",
    "                               ),\n",
    "    \n",
    "                    #Personalizando o eixo x: posicao, cor, texto, etc.\n",
    "                    xaxis=dict(title='Distância',\n",
    "                               side='top',\n",
    "                               color='white'\n",
    "                              ),\n",
    "    \n",
    "                    #Personalizando o eixo y: posicao, cor, texto, etc.\n",
    "                    yaxis=dict(title='Profundidade',\n",
    "                               autorange='reversed', #possibilita inverter o eixo y.\n",
    "                               color='white'\n",
    "                              ),\n",
    "    \n",
    "                    #Personalizando a legenda: cor, texto, fonte, tamanho da fonte, etc.\n",
    "                    legend=dict(font=dict(family='Arial, sans-serif',\n",
    "                                          size=12,\n",
    "                                          color='white'\n",
    "                                         )\n",
    "                               ),\n",
    "    \n",
    "                   # define o tamanho do gráfico, altura e largura, e o tamanhado da margem\n",
    "                   #(l=left, r=right, b=bottom, t=top)\n",
    "                   autosize=False,\n",
    "                   width=900,\n",
    "                   height=500,\n",
    "                   margin=dict(l=60,\n",
    "                               r=30,\n",
    "                               b=20,\n",
    "                               t=80\n",
    "                               ),\n",
    "                   paper_bgcolor='#7f7f7f', #cor do background da margem\n",
    "                   plot_bgcolor='#c7c7c7', #cor do backgroud do gráfico\n",
    "                   )\n",
    "\n",
    "# a função go.FigureWidget cria a figura com os parametros utilizados na go.Countour e o layout na go.Layout\n",
    "fig = go.FigureWidget(data=[imagem], layout=layout)\n",
    "\n",
    "# plot a figura na tela:\n",
    "fig\n",
    "\n",
    "####### É NECESSÁRIO ESCOLHER DOIS PONTOS CLICANDO NO GRÁFICO GERADO PARA RODAR O RESTANTE DO SCRIPT #######"
   ]
  },
  {
   "cell_type": "code",
   "execution_count": null,
   "metadata": {},
   "outputs": [],
   "source": []
  }
 ],
 "metadata": {
  "kernelspec": {
   "display_name": "Python 3",
   "language": "python",
   "name": "python3"
  },
  "language_info": {
   "codemirror_mode": {
    "name": "ipython",
    "version": 3
   },
   "file_extension": ".py",
   "mimetype": "text/x-python",
   "name": "python",
   "nbconvert_exporter": "python",
   "pygments_lexer": "ipython3",
   "version": "3.7.5"
  }
 },
 "nbformat": 4,
 "nbformat_minor": 2
}
