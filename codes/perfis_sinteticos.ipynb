{
 "cells": [
  {
   "cell_type": "markdown",
   "metadata": {},
   "source": [
    "<font size=\"6px\" font color=\"blue\" face=\"Times New Roman\"><b>Modelo de hipótese para dados de Well Logging</b></font>\n"
   ]
  },
  {
   "cell_type": "markdown",
   "metadata": {},
   "source": [
    "### Script desenvolvido por Victor Carreira <br>\n",
    "### Colaboração de Rodrigos Mota e Bijani"
   ]
  },
  {
   "cell_type": "markdown",
   "metadata": {},
   "source": [
    "--------------------------------------------------------------------------------------------------------------------------------------------------------------------------------------------------------------------------------------------------"
   ]
  },
  {
   "cell_type": "code",
   "execution_count": null,
   "metadata": {},
   "outputs": [],
   "source": [
    "#Pacotes\n",
    "#% matplotlib inline\n",
    "from sys import maxsize\n",
    "import numpy as np\n",
    "from numpy import set_printoptions\n",
    "import pylab as py\n",
    "import matplotlib.pyplot as plt\n",
    "import matplotlib.image as img\n",
    "from matplotlib import style\n",
    "import random\n",
    "from random import shuffle\n",
    "import scipy as sp\n",
    "from scipy import ndimage\n",
    "from scipy import misc\n",
    "from PIL import Image, ImageFilter\n",
    "from IPython.display import Latex\n",
    "#----------------------------------\n",
    "#novos pacotes de imagem\n",
    "import imageio\n",
    "from skimage import data, io, filters\n",
    "from skimage import img_as_float\n",
    "from skimage.transform import radon, rescale\n",
    "from skimage.morphology import reconstruction"
   ]
  },
  {
   "cell_type": "code",
   "execution_count": null,
   "metadata": {},
   "outputs": [],
   "source": [
    "#antigo método de leitura de rasters\n",
    "#ma = img.imread('amazonas.png') #carrega o modelo de hipótese H1 e transforma o raster em uma matriz de dados. Função imread()\n",
    "#ma = misc.imread('amazonas.png',mode='P')\n",
    "#ma = imageio.imread('amazonas.png')\n",
    "\n",
    "\n",
    "#print(ma.shape) #mostra a matriz\n",
    "\n",
    "#print(ma[:50,:50,1])\n",
    "# no 'mode' usar:\n",
    "#* 'L' (8-bit pixels, black and white)\n",
    "#* 'P' (8-bit pixels, mapped to any other mode using a color palette)\n",
    "#* 'RGB' (3x8-bit pixels, true color)\n",
    "#* 'RGBA' (4x8-bit pixels, true color with transparency mask)\n",
    "#* 'CMYK' (4x8-bit pixels, color separation)\n",
    "#* 'YCbCr' (3x8-bit pixels, color video format)\n",
    "#* 'I' (32-bit signed integer pixels)\n",
    "#* 'F' (32-bit floating point pixels)\n",
    "\n",
    "#plt.matshow(ma,vmin=0.0,vmax=4.0)#Cria o gráfico com a matriz da imagem (cria um valor mínimo e máximo)\n",
    "#plt.colorbar()#Define o tipo de cor da barra de dados\n",
    "#plt.show()#mostra o gráfico"
   ]
  },
  {
   "cell_type": "code",
   "execution_count": null,
   "metadata": {},
   "outputs": [],
   "source": [
    "ma = io.imread(\"../figs/amazonas.png\", as_gray=False)\n",
    "plt.style.use(['classic'])\n",
    "py.rcParams['figure.figsize'] = (20.0, 30.0)#new figure dimension\n",
    "plt.title(\"Modelo\")\n",
    "plt.imshow(ma)\n",
    "plt.grid()\n",
    "plt.show()\n",
    "\n",
    "\n",
    "#np.set_printoptions(threshold=maxsize)\n",
    "#np.set_printoptions(threshold=np.nan)\n",
    "#np.set_printoptions(threshold=np.inf)\n",
    "#print(np.array2string(ma, threshold=np.nan, max_line_width=np.nan))"
   ]
  },
  {
   "cell_type": "code",
   "execution_count": null,
   "metadata": {},
   "outputs": [],
   "source": [
    "# Visualizacao da matriz de dados:\n",
    "print(np.shape(ma))"
   ]
  },
  {
   "cell_type": "code",
   "execution_count": null,
   "metadata": {},
   "outputs": [],
   "source": [
    "############################################### PERFILAGEM SINTETICA ##########################################\n",
    "mb = ma[:,250]#Faz uma amostragem vertical na seção. Essa amostragem simula o poço. Poço 1.\n",
    "#print('mb', np.array2string(mb, threshold=np.nan, max_line_width=np.nan))#imprime o RGBA do poço teste\n",
    "#py.rcParams['figure.figsize'] = (4.0, 15.0)#new figure dimension\n",
    "#plt.grid() # bota a gridagem\n",
    "#plt.gca().invert_yaxis() # inverte o eixo y\n",
    "#plt.imshow(mb,cmap='hsv')\n",
    "#plt.show()"
   ]
  },
  {
   "cell_type": "code",
   "execution_count": null,
   "metadata": {},
   "outputs": [],
   "source": [
    "print(mb)"
   ]
  },
  {
   "cell_type": "code",
   "execution_count": null,
   "metadata": {},
   "outputs": [],
   "source": [
    "############# CRIACAO DO PERFIL DE DENSIDADE #############\n",
    "\n",
    "# ---- densidades das rochas -------: \n",
    "# 0 = folhelho | 2.4  |\n",
    "# 1 = A2       | 2.1  |\n",
    "# 2 = A1       | 2.05 |\n",
    "# 3 = marga    | 2.2  |\n",
    "# 4 = Basalto  | 2.8  |\n",
    "\n",
    "RHOmb = [0.0] * len(mb)\n",
    "prof = [] #cria uma lista vazia\n",
    "\n",
    "for i in range(len(mb)): #Cria um Looping com índice i que varia de 0 até mb-1. Ou seja, 999 elementos.\n",
    "    if mb[i].all() == 0: #declara que quando o índice i for igual a 0 na posição mn ...\n",
    "        RHOmb[i] = 2.4   #o elemento do vetor assumirá o valor de 2.4...e assim sucessivamente ... \n",
    "    if mb[i].all() == 1:\n",
    "        RHOmb[i] = 2.1\n",
    "    if mb[i].all() == 2:\n",
    "        RHOmb[i] = 2.05\n",
    "    if mb[i].all() == 3:\n",
    "        RHOmb[i] = 2.2\n",
    "    if mb[i].all() == 4:\n",
    "        RHOmb[i] = 2.6\n",
    "    prof.append(i)# Preenche o vetor prof com os valores do índice i. Comando append()"
   ]
  },
  {
   "cell_type": "code",
   "execution_count": null,
   "metadata": {},
   "outputs": [],
   "source": [
    "## Adiconando ruído randômico gaussiano normal\n",
    "pure = np.linspace(-0.1, 0.1, len(RHOmb)) # Cria um vetor para receber a imagem da função densidade de probabilidade\n",
    "noise = np.random.normal(0, 0.06, pure.shape) #Vetor ruído\n",
    "signal_RHOmb = RHOmb + noise # sinal original com ruído"
   ]
  },
  {
   "cell_type": "code",
   "execution_count": null,
   "metadata": {
    "scrolled": false
   },
   "outputs": [],
   "source": [
    "####### Plot do perfil de densidade ###############\n",
    "plt.plot(signal_RHOmb,prof, 'r') \n",
    "plt.style.use(['classic'])\n",
    "plt.xlabel('Densidade ($g/cm^3$)', fontsize='small')\n",
    "plt.ylabel('Profundidade ($a definir$)', fontsize='small')\n",
    "py.rcParams['figure.figsize'] = (10.0, 6.0)#new figure dimension\n",
    "plt.title('$Po\\c{c}o$ mb', fontsize='xx-large')\n",
    "plt.grid() # bota a gridagem\n",
    "plt.gca().invert_yaxis() # inverte o eixo y\n",
    "plt.show()"
   ]
  },
  {
   "cell_type": "code",
   "execution_count": null,
   "metadata": {},
   "outputs": [],
   "source": [
    "##############################################  RAIO GAMA ################################################\n",
    "\n",
    "#              Raio-Gama\n",
    "# 0 = Folhelho | 120.00  | \n",
    "# 1 = A2       | 10.00   |\n",
    "# 2 = A1       | 4.80    |\n",
    "# 3 = marga    | 7.20    |\n",
    "# 4 = Basalto  | 1.20    |\n",
    "\n",
    "GRmb = [0.0]*len(mb)\n",
    "prof = []\n",
    "\n",
    "for i in range(len(mb)):\n",
    "    if mb[i].all() == 0:\n",
    "        GRmb[i] = 120.00\n",
    "    if mb[i].all() == 1:\n",
    "        GRmb[i] = 10.00\n",
    "    if mb[i].all() == 2:\n",
    "        GRmb[i] = 4.80\n",
    "    if mb[i].all() == 3:\n",
    "        GRmb[i] = 7.20\n",
    "    if mb[i].all() == 4:\n",
    "        GRmb[i] = 1.20\n",
    "    prof.append(i)"
   ]
  },
  {
   "cell_type": "code",
   "execution_count": null,
   "metadata": {},
   "outputs": [],
   "source": [
    "## Adiconando ruído randômico gaussiano normal\n",
    "pure = np.linspace(-0.1, 0.1, len(GRmb)) # Cria um vetor para receber a imagem da função densidade de probabilidade\n",
    "noise = np.random.normal(0, 7, pure.shape) #Vetor ruído\n",
    "signal_GRmb = GRmb + noise # sinal original com ruído"
   ]
  },
  {
   "cell_type": "code",
   "execution_count": null,
   "metadata": {},
   "outputs": [],
   "source": [
    "# Plot do perfil de raio gama ############\n",
    "plt.plot(signal_GRmb,prof, 'b')\n",
    "plt.style.use(['classic'])\n",
    "plt.xlabel('Raio-Gama')\n",
    "plt.ylabel('Profundidade')\n",
    "plt.title('$Po\\c{c}o$ mb', fontsize='xx-large')\n",
    "plt.grid()\n",
    "plt.gca().invert_yaxis()\n",
    "plt.show()"
   ]
  },
  {
   "cell_type": "markdown",
   "metadata": {},
   "source": [
    "## TODO: Atividades a serem desenvolvidas para aprimorar o script: <br>\n",
    "1) Converter as coordenadas da bacia a fim de facilitar a escolha dos poços; <br> \n",
    "2) Padronizar a escolha dos poços (interativamente);<br>\n",
    "3) Incluir mais propriedades fisicas (perfil sônico, perfil porosidade, etc); <br>\n",
    "4) Aumentar a quantidade de poços sintéticos;"
   ]
  }
 ],
 "metadata": {
  "kernelspec": {
   "display_name": "Python 3",
   "language": "python",
   "name": "python3"
  },
  "language_info": {
   "codemirror_mode": {
    "name": "ipython",
    "version": 3
   },
   "file_extension": ".py",
   "mimetype": "text/x-python",
   "name": "python",
   "nbconvert_exporter": "python",
   "pygments_lexer": "ipython3",
   "version": "3.6.5"
  }
 },
 "nbformat": 4,
 "nbformat_minor": 2
}
