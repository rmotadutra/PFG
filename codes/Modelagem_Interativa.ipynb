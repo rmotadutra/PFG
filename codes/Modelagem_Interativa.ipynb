{
 "cells": [
  {
   "cell_type": "markdown",
   "metadata": {},
   "source": [
    "## Teste Coordenadas Bacias do Amazonas </br>\n",
    "### Rodrigo Mota </br>"
   ]
  },
  {
   "cell_type": "code",
   "execution_count": null,
   "metadata": {},
   "outputs": [],
   "source": [
    "import numpy as np\n",
    "import matplotlib.pyplot as plt\n",
    "import matplotlib.image as img\n",
    "import pylab as py\n",
    "import skimage as sk\n",
    "from skimage.transform import rescale, resize, downscale_local_mean\n",
    "from scipy.misc import imread, imsave, imresize\n",
    "import plotly as ply\n",
    "import plotly.graph_objs as go\n",
    "import requests\n",
    "from plotly import tools\n",
    "from PIL import Image\n",
    "from io import BytesIO\n",
    "import imageio as io"
   ]
  },
  {
   "cell_type": "code",
   "execution_count": null,
   "metadata": {},
   "outputs": [],
   "source": [
    "#Coordenadas do Ponto Inicial em metros\n",
    "iutm_N = 0.0 #9402600\n",
    "iutm_E = 0.0 #403400\n",
    "#Coordenadas do Ponto Final em metros\n",
    "futm_N = 1000.0 #9402350\n",
    "futm_E = 2000.0 #403950\n",
    "#Profundidade máxima em metros\n",
    "prof = 1500.0"
   ]
  },
  {
   "cell_type": "code",
   "execution_count": null,
   "metadata": {},
   "outputs": [],
   "source": [
    "# rodar no pc do Bijani:\n",
    "ma = io.imread(\"../figs/amazonas.png\", as_gray=False)\n",
    "\n",
    "# rodar no pc do Mota:\n",
    "#ma = io.imread(\"PFG/figs/amazonas.png\", as_gray=False)\n",
    "\n",
    "\n",
    "plt.style.use(['classic'])\n",
    "py.rcParams['figure.figsize'] = (15.0, 20.0) #new figure dimension\n",
    "plt.title(\"Modelo\")\n",
    "#plt.imshow(ma, aspect='equal', extent=(iutm_E, futm_E, prof, 0))\n",
    "plt.imshow(ma)\n",
    "plt.grid()\n",
    "plt.show()\n",
    "print(np.shape(ma))\n",
    "#print(ma)"
   ]
  },
  {
   "cell_type": "code",
   "execution_count": null,
   "metadata": {},
   "outputs": [],
   "source": [
    "#### meshgrid para reproduzir a secao da bacia sedimentar em coordenadas metricas:\n",
    "hy = np.shape(ma)[0]\n",
    "hx = np.shape(ma)[1]\n",
    "hz = np.shape(ma)[2]\n",
    "print(hz)\n",
    "\n",
    "xi = np.linspace(0.0, 17000.0, hx, endpoint=True)\n",
    "zi = np.linspace(0.0, 5000.0, hy, endpoint=True)\n",
    "Xi, Zi = np.meshgrid(xi,zi)"
   ]
  },
  {
   "cell_type": "code",
   "execution_count": null,
   "metadata": {},
   "outputs": [],
   "source": [
    "# para fazer plots dentro do proprio script sem a necessidade de conexao com a internet:\n",
    "ply.offline.init_notebook_mode(connected=True)\n",
    "# funcao go.contour faz \n",
    "\n",
    "imagem0 = [go.Contour(z=ma[:,:,0],\n",
    "                         x=xi,\n",
    "                         y=zi,\n",
    "                    colorbar=dict(\n",
    "                        title='RGBA',\n",
    "                        titleside='right',\n",
    "                        titlefont=dict(\n",
    "                            size=14,\n",
    "                            family='Arial, sans-serif'\n",
    "                        ),\n",
    "                        thickness=25,\n",
    "                        thicknessmode='pixels',\n",
    "                        len=0.9,\n",
    "                        lenmode='fraction',\n",
    "                        outlinewidth=0\n",
    "                    )\n",
    "                   )\n",
    "          ]\n",
    "                      \n",
    "layout = go.Layout(\n",
    "            xaxis= dict(title='Distância',\n",
    "                        side ='top'\n",
    "                   ),\n",
    "            yaxis= dict(title='Profundidade',\n",
    "                        autorange='reversed'\n",
    "                   ))\n",
    "\n",
    "#fig = tools.make_subplots(rows=1, cols=1, shared_yaxes=True)\n",
    "#fig.append_trace(imagem, 1, 1)\n",
    "#fig.append_trace(imagem1, 1, 1)\n",
    "#fig.append_trace(imagem2, 1, 1)\n",
    "#fig.append_trace(imagem3, 1, 1)\n",
    "\n",
    "fig = go.Figure(data=imagem0, layout=layout)\n",
    "\n",
    "ply.offline.iplot(fig)"
   ]
  },
  {
   "cell_type": "markdown",
   "metadata": {},
   "source": [
    "# https://plot.ly/python/contour-plots/"
   ]
  },
  {
   "cell_type": "code",
   "execution_count": null,
   "metadata": {},
   "outputs": [],
   "source": [
    "z_data = []\n",
    "\n",
    "for i in range(hy):\n",
    "    k = []\n",
    "    for j in range(hx):\n",
    "        k.append(sum(ma[i,j]))\n",
    "    z_data.append(k)\n",
    "\n",
    "imagem = [go.Contour(z=z_data,\n",
    "                    x=xi,\n",
    "                    y=zi,\n",
    "                    colorbar=dict(\n",
    "                        title='RGBA',\n",
    "                        titleside='right',\n",
    "                        titlefont=dict(\n",
    "                            size=14,\n",
    "                            family='Arial, sans-serif'\n",
    "                        ),\n",
    "                        thickness=25,\n",
    "                        thicknessmode='pixels',\n",
    "                        len=0.9,\n",
    "                        lenmode='fraction',\n",
    "                        outlinewidth=0\n",
    "                    )\n",
    "                   )\n",
    "         ]\n",
    "layout = go.Layout(\n",
    "    xaxis= dict(title='Distância',\n",
    "                side ='top'\n",
    "               ),\n",
    "    yaxis= dict(title='Profundidade',\n",
    "                autorange='reversed'\n",
    "               ))\n",
    "\n",
    "fig = go.Figure(data=imagem, layout=layout)\n",
    "\n",
    "ply.offline.iplot(fig)"
   ]
  },
  {
   "cell_type": "markdown",
   "metadata": {},
   "source": [
    "# TODO: Revisitar o script para \" limpar \" os seguintes itens:\n",
    "> ###  Bibliotecas nao utilizadas; <br>\n",
    "> ### Pedaços de codigo sem utilidade;<br>\n",
    "> ### Comentarios referentes as principais funções das bibliotecas utilizadas; <br>\n",
    "> ### Jogar um tenis! <br>"
   ]
  },
  {
   "cell_type": "code",
   "execution_count": null,
   "metadata": {},
   "outputs": [],
   "source": []
  }
 ],
 "metadata": {
  "kernelspec": {
   "display_name": "Python 3",
   "language": "python",
   "name": "python3"
  },
  "language_info": {
   "codemirror_mode": {
    "name": "ipython",
    "version": 3
   },
   "file_extension": ".py",
   "mimetype": "text/x-python",
   "name": "python",
   "nbconvert_exporter": "python",
   "pygments_lexer": "ipython3",
   "version": "3.6.5"
  }
 },
 "nbformat": 4,
 "nbformat_minor": 2
}
