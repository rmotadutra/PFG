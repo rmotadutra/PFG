{
 "cells": [
  {
   "cell_type": "markdown",
   "metadata": {},
   "source": [
    "# Perfil de Densidade a partir da simulação de um poço</br>\n",
    "\n",
    "### Script desenvolvido por Victor Carreira\n",
    "### Colaboração de Rodrigos Mota e Bijani"
   ]
  },
  {
   "cell_type": "code",
   "execution_count": null,
   "metadata": {},
   "outputs": [],
   "source": [
    "import numpy as np\n",
    "import matplotlib.pyplot as plt\n",
    "import matplotlib.image as img\n",
    "import pylab as py\n",
    "import skimage as sk\n",
    "import imageio as io\n",
    "from scipy.misc import imread, imsave, imresize\n",
    "import plotly as ply\n",
    "import plotly.plotly as plyy\n",
    "import plotly.graph_objs as go\n",
    "import pandas as pd\n",
    "import random"
   ]
  },
  {
   "cell_type": "code",
   "execution_count": null,
   "metadata": {},
   "outputs": [],
   "source": [
    "#Leitura da imagem (.png) com o modelo geológico\n",
    "#ma = io.imread(\"../figs/amazonas.png\", as_gray=False, pilmode=\"RGBA\") # verificar no inkscape!\n",
    "ma = io.imread(\"../figs/amazonas.png\", as_gray=False, pilmode=\"RGB\")\n",
    "plt.style.use(['classic'])\n",
    "py.rcParams['figure.figsize'] = (15.0, 20.0) #new figure dimension\n",
    "plt.title(\"Modelo - Bacia do Amazonas\")\n",
    "plt.imshow(ma)\n",
    "plt.grid()\n",
    "plt.show()"
   ]
  },
  {
   "cell_type": "code",
   "execution_count": null,
   "metadata": {},
   "outputs": [],
   "source": [
    "#Criando os vetores de coordenadas (xi), com 7000m e o vetor de profundidade (zi), com 2000m.\n",
    "hy = np.shape(ma)[0]\n",
    "hx = np.shape(ma)[1]\n",
    "hz = np.shape(ma)[2]\n",
    "\n",
    "xi = np.linspace(0.0, 7000.0, hx, endpoint=True)\n",
    "zi = np.linspace(0.0, 2000.0, hy, endpoint=True)"
   ]
  },
  {
   "cell_type": "code",
   "execution_count": null,
   "metadata": {},
   "outputs": [],
   "source": [
    "# para fazer plots dentro do proprio script sem a necessidade de conexao com a internet:\n",
    "ply.offline.init_notebook_mode(connected=True)\n",
    "\n",
    "# funcao go.Contour faz um countour plot usando como eixo x, o xi criado para coordenadas, como o eixo y, o zi\n",
    "# criado para profunidades, e como o eixo z o plot de valores RGBA da matriz ma.\n",
    "# além disso, na função go.countour está listando as configurações pernsonalizadas para o colorbar\n",
    "\n",
    "imagem = go.Heatmap(z=ma[:,:,0],\n",
    "                         x=xi,\n",
    "                         y=zi,\n",
    "                    colorbar=dict(\n",
    "                        title='RGBA',\n",
    "                        titleside='right',\n",
    "                        titlefont=dict(\n",
    "                            size=14,\n",
    "                            family='Arial, sans-serif'\n",
    "                        ),\n",
    "                        thickness=25,\n",
    "                        thicknessmode='pixels',\n",
    "                        len=0.9,\n",
    "                        lenmode='fraction',\n",
    "                        outlinewidth=0\n",
    "                    )\n",
    "                   )\n",
    "          \n",
    "\n",
    "# a função go.Layout personaliza o layout do gráfico, no caso, colocando título nos eixos.\n",
    "# \"autorange=reversed\", da o comando para inverter o eixo y, no caso as profundidades, começando com 0 e os\n",
    "# aumentando p/ baixo.\n",
    "layout = go.Layout(\n",
    "            xaxis= dict(title='Distância',\n",
    "                        side ='top',\n",
    "                        color = 'white'\n",
    "                   ),\n",
    "            yaxis= dict(title='Profundidade',\n",
    "                        autorange='reversed',\n",
    "                        color = 'white'\n",
    "                   ),\n",
    "            # define o tamanho do gráfico, altura e largura, e o tamanhado da margem (l=left, r=right, b=bottom, t=top)\n",
    "            autosize=False,\n",
    "            width=1000,\n",
    "            height=500,\n",
    "            margin=go.layout.Margin(\n",
    "                l=50,\n",
    "                r=30,\n",
    "                b=20,\n",
    "                t=60\n",
    "            ),\n",
    "            paper_bgcolor='#7f7f7f', #cor do background da margem\n",
    "            plot_bgcolor='#c7c7c7' #cor do backgroud do gráfico\n",
    "    )\n",
    "\n",
    "# a função go.FigureWidget cria o a figura com os parametros utilizados na go.Countour e o layout na go.Layout\n",
    "fig = go.FigureWidget(data=[imagem], layout=layout)\n",
    "\n",
    "#Selecionando as configurações dos dados de fig\n",
    "teste = fig.data[0]\n",
    "x_data = []\n",
    "y_data = []\n",
    "\n",
    "# criando a função de callback\n",
    "# para selecionar o ponto inicial e final da perfuração simulada do poço sintético \n",
    "def select_point(trace, points, selector):\n",
    "    x = list(teste.x)\n",
    "    y = list(teste.y)\n",
    "    for i in points.point_inds:\n",
    "        y_data.append(zi[i[0]])\n",
    "        x_data.append(xi[i[1]])\n",
    "        print(points.point_inds)\n",
    "\n",
    "# Sempre que clicar no gráfico chamará a função de callback\n",
    "teste.on_click(select_point)\n",
    "\n",
    "# plot a figura na tela:\n",
    "fig\n",
    "\n",
    "####### É NECESSÁRIO ESCOLHER DOIS PONTOS CLICANDO NO GRÁFICO GERADO PARA RODAR O RESTANTE DO SCRIPT #######"
   ]
  },
  {
   "cell_type": "code",
   "execution_count": null,
   "metadata": {},
   "outputs": [],
   "source": [
    "# para fazer plots dentro do proprio script sem a necessidade de conexao com a internet:\n",
    "ply.offline.init_notebook_mode(connected=True)\n",
    "\n",
    "# funcao go.Contour faz um countour plot usando como eixo x, o xi criado para coordenadas, como o eixo y, o zi\n",
    "# criado para profunidades, e como o eixo z o plot de valores RGBA da matriz ma.\n",
    "# além disso, na função go.countour está listando as configurações pernsonalizadas para o colorbar\n",
    "\n",
    "imagem = go.Heatmap(z=ma[:,:,0],\n",
    "                         x=xi,\n",
    "                         y=zi,\n",
    "                    colorbar=dict(\n",
    "                        title='RGBA',\n",
    "                        titleside='right',\n",
    "                        titlefont=dict(\n",
    "                            size=14,\n",
    "                            family='Arial, sans-serif'\n",
    "                        ),\n",
    "                        thickness=25,\n",
    "                        thicknessmode='pixels',\n",
    "                        len=0.9,\n",
    "                        lenmode='fraction',\n",
    "                        outlinewidth=0\n",
    "                    )\n",
    "                   )\n",
    "          \n",
    "\n",
    "# a função go.Layout personaliza o layout do gráfico, no caso, colocando título nos eixos.\n",
    "# \"autorange=reversed\", da o comando para inverter o eixo y, no caso as profundidades, começando com 0 e os\n",
    "# aumentando p/ baixo.\n",
    "layout = go.Layout(\n",
    "            xaxis= dict(title='Distância',\n",
    "                        side ='top',\n",
    "                        color = 'white'\n",
    "                   ),\n",
    "            yaxis= dict(title='Profundidade',\n",
    "                        autorange='reversed',\n",
    "                        color = 'white'\n",
    "                   ),\n",
    "            # define o tamanho do gráfico, altura e largura, e o tamanhado da margem (l=left, r=right, b=bottom, t=top)\n",
    "            autosize=False,\n",
    "            width=1000,\n",
    "            height=500,\n",
    "            margin=go.layout.Margin(\n",
    "                l=50,\n",
    "                r=30,\n",
    "                b=20,\n",
    "                t=60\n",
    "            ),\n",
    "            paper_bgcolor='#7f7f7f', #cor do background da margem\n",
    "            plot_bgcolor='#c7c7c7' #cor do backgroud do gráfico\n",
    "    )\n",
    "\n",
    "imagem2 = go.Scatter(x=x_data,y=y_data)\n",
    "\n",
    "data = [imagem, imagem2]\n",
    "\n",
    "fig = go.FigureWidget(data=data, layout=layout)\n",
    "\n",
    "# plot a figura na tela:\n",
    "fig"
   ]
  },
  {
   "cell_type": "code",
   "execution_count": null,
   "metadata": {},
   "outputs": [],
   "source": [
    "#apenas rodar quando escolher dois pontos clicando no gráfico acima\n",
    "#definindo a dimensão do poço sintético\n",
    "mb = (ma[y_data[0]-1:y_data[1], x_data[0]-1:x_data[0]])"
   ]
  },
  {
   "cell_type": "markdown",
   "metadata": {},
   "source": [
    "## Estabelecendo critério de soma das rbga para construção do poço sintético:"
   ]
  },
  {
   "cell_type": "code",
   "execution_count": null,
   "metadata": {},
   "outputs": [],
   "source": [
    "# calculando as somas das cores para definir\n",
    "lito = [] # soma das cores do rbga = r+b+g+a:\n",
    "for i in range( len(mb) ):\n",
    "    lito.append(sum(mb[i][0]))"
   ]
  },
  {
   "cell_type": "markdown",
   "metadata": {},
   "source": [
    "### Leitura do banco de dados de input, fornecido pelo usuario (litologias, RBG, rho)"
   ]
  },
  {
   "cell_type": "code",
   "execution_count": null,
   "metadata": {},
   "outputs": [],
   "source": [
    "cab = ['lito', 'R','G','B','A', 'rho']\n",
    "data = pd.read_csv('../dados/input_usuario.txt', sep='\\s+', names=cab, header=0 )\n",
    "print(data)"
   ]
  },
  {
   "cell_type": "code",
   "execution_count": null,
   "metadata": {},
   "outputs": [],
   "source": [
    "# Somando os RBGA:\n",
    "soma = data.R + data.G + data.B + data.A\n",
    "#adicionando a coluna 'soma' na tabela de dados:\n",
    "data['soma']= soma"
   ]
  },
  {
   "cell_type": "code",
   "execution_count": null,
   "metadata": {},
   "outputs": [],
   "source": [
    "# construindo o perfil de densidade:\n",
    "rhob = [0.0]*len(lito)\n",
    "\n",
    "for i in range(len(lito)):\n",
    "    if lito[i] == data.soma[0]: # folhelho\n",
    "        rhob[i] = data.rho[0]\n",
    "        \n",
    "    if lito[i] == data.soma[1]: # A1\n",
    "        rhob[i] = data.rho[1]\n",
    "        \n",
    "    if lito[i] == data.soma[2]: # A2\n",
    "        rhob[i] = data.rho[2]\n",
    "        \n",
    "    if lito[i] == data.soma[3]: # Marga\n",
    "        rhob[i] = data.rho[3]\n",
    "        \n",
    "    if lito[i] == data.soma[4]: # Basalto\n",
    "        rhob[i] = data.rho[4]\n",
    "print(rhob)"
   ]
  },
  {
   "cell_type": "code",
   "execution_count": null,
   "metadata": {},
   "outputs": [],
   "source": [
    "## Adiconando ruído randômico gaussiano normal:\n",
    "rhob_noise = np.zeros( len(rhob) )\n",
    "\n",
    "for i in range(len(rhob)):\n",
    "    rhob_noise[i] = random.gauss(rhob[i], 0.6)"
   ]
  },
  {
   "cell_type": "code",
   "execution_count": null,
   "metadata": {},
   "outputs": [],
   "source": [
    "#Criando o vetor de profundidade:\n",
    "prof = np.linspace(zi[y_data[0]], zi[y_data[1]], len(rhob))"
   ]
  },
  {
   "cell_type": "code",
   "execution_count": null,
   "metadata": {},
   "outputs": [],
   "source": [
    "# para fazer plots dentro do proprio script sem a necessidade de conexao com a internet:\n",
    "ply.offline.init_notebook_mode(connected=True)\n",
    "\n",
    "# funcao go.Scatter faz um scatter plot usando como eixo x, o singnal_RHObm criado com os dados de rhob e\n",
    "# adicionado ruído, como o eixo y, a prof criada para profunidades\n",
    "\n",
    "rhob_graph = [go.Scatter(x=rhob_noise, y=prof)]\n",
    "\n",
    "# Define o layout do plot, como título dos eixos, posição dos eixos, cor da letra, etc\n",
    "layout = go.Layout(\n",
    "    xaxis= dict(title='Propriedade Fisica',\n",
    "                side ='top',\n",
    "                color = 'white'\n",
    "               ),\n",
    "    yaxis= dict(title='Profundidade',\n",
    "                autorange='reversed',\n",
    "                color = 'white'\n",
    "               ),\n",
    "    # define o tamanho do gráfico, altura e largura, e o tamanhado da margem (l=left, r=right, b=bottom, t=top)\n",
    "    autosize=False,\n",
    "    width=400,\n",
    "    height=800,\n",
    "    margin=go.layout.Margin(\n",
    "        l=50,\n",
    "        r=30,\n",
    "        b=20,\n",
    "        t=60\n",
    "        ),\n",
    "    paper_bgcolor='#7f7f7f', #cor do background da margem\n",
    "    plot_bgcolor='#c7c7c7' #cor do backgroud do gráfico\n",
    "    )\n",
    "\n",
    "fig = go.FigureWidget(data=rhob_graph, layout=layout)\n",
    "\n",
    "fig"
   ]
  },
  {
   "cell_type": "markdown",
   "metadata": {},
   "source": [
    "## TODO:\n",
    "### 1) Usar o plotly para plotar o poço interativamente, ou seja, no \"ato de perfilar\" com os cliques do mouse;   \n",
    "### 2) Criar poços direcionais (futuro);\n",
    "### 3) Como seria fazer vários poços na mesma janela de plot?\n",
    "### 4) Limpar o codigo criando funções (plolty, da soma dos RBG)\n",
    "### 5) fazer o perfil de VS a partir de rhob (Gardner)"
   ]
  },
  {
   "cell_type": "markdown",
   "metadata": {},
   "source": [
    "# Para saber mais sobre a go.Countour:\n",
    "\n",
    "### https://plot.ly/python/contour-plots/\n",
    "### https://plot.ly/python/click-events/#update-points-using-a-click-callback"
   ]
  }
 ],
 "metadata": {
  "kernelspec": {
   "display_name": "Python 3",
   "language": "python",
   "name": "python3"
  },
  "language_info": {
   "codemirror_mode": {
    "name": "ipython",
    "version": 3
   },
   "file_extension": ".py",
   "mimetype": "text/x-python",
   "name": "python",
   "nbconvert_exporter": "python",
   "pygments_lexer": "ipython3",
   "version": "3.7.1"
  }
 },
 "nbformat": 4,
 "nbformat_minor": 2
}
