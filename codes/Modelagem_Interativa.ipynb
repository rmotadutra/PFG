{
 "cells": [
  {
   "cell_type": "markdown",
   "metadata": {},
   "source": [
    "# Perfil de Densidade a partir da simulação de um poço</br>\n",
    "\n",
    "### Script desenvolvido por Victor Carreira\n",
    "### Colaboração de Rodrigos Mota e Bijani"
   ]
  },
  {
   "cell_type": "code",
   "execution_count": null,
   "metadata": {},
   "outputs": [],
   "source": [
    "import numpy as np\n",
    "import matplotlib.pyplot as plt\n",
    "import matplotlib.image as img\n",
    "import pylab as py\n",
    "import skimage as sk\n",
    "import imageio as io\n",
    "from scipy.misc import imread, imsave, imresize\n",
    "import plotly as ply\n",
    "import plotly.graph_objs as go\n",
    "import plotly.subplots as sub\n",
    "import plotly.express as px\n",
    "import pandas as pd\n",
    "import random"
   ]
  },
  {
   "cell_type": "code",
   "execution_count": null,
   "metadata": {},
   "outputs": [],
   "source": [
    "#Leitura da imagem (.png) com o modelo geológico\n",
    "ma = io.imread(\"../figs/amazonas.png\", as_gray=False, pilmode=\"RGBA\") # verificar no inkscape!\n",
    "plt.style.use(['classic'])\n",
    "py.rcParams['figure.figsize'] = (15.0, 20.0) #new figure dimension\n",
    "plt.title(\"Modelo - Bacia do Amazonas\")\n",
    "plt.imshow(ma)\n",
    "plt.grid()\n",
    "plt.savefig('../figs/modelo_inicial.png')\n",
    "plt.show()"
   ]
  },
  {
   "cell_type": "code",
   "execution_count": null,
   "metadata": {},
   "outputs": [],
   "source": [
    "#Criando os vetores de coordenadas (xi), com 7000m e o vetor de profundidade (zi), com 2000m.\n",
    "hy = np.shape(ma)[0]\n",
    "hx = np.shape(ma)[1]\n",
    "hz = np.shape(ma)[2]\n",
    "\n",
    "xi = np.linspace(0.0, 7000.0, hx, endpoint=True)\n",
    "zi = np.linspace(0.0, 2000.0, hy, endpoint=True)"
   ]
  },
  {
   "cell_type": "code",
   "execution_count": null,
   "metadata": {},
   "outputs": [],
   "source": [
    "# para fazer plots dentro do proprio script sem a necessidade de conexao com a internet:\n",
    "ply.offline.init_notebook_mode(connected=True)\n",
    "\n",
    "# funcao go.Contour faz um countour plot usando como eixo x, o xi criado para coordenadas, como o eixo y, o zi\n",
    "# criado para profunidades, e como o eixo z o plot de valores RGBA da matriz ma.\n",
    "# além disso, na função go.countour está listando as configurações pernsonalizadas para o colorbar\n",
    "\n",
    "imagem = go.Heatmap(z=ma[:,:,0],\n",
    "                         x=xi,\n",
    "                         y=zi,\n",
    "                    colorbar=dict(\n",
    "                        title='RGBA',\n",
    "                        titleside='right',\n",
    "                        titlefont=dict(\n",
    "                            size=14,\n",
    "                            family='Arial, sans-serif'\n",
    "                        ),\n",
    "                        thickness=25,\n",
    "                        thicknessmode='pixels',\n",
    "                        len=0.9,\n",
    "                        lenmode='fraction',\n",
    "                        outlinewidth=0\n",
    "                    ),\n",
    "                    name = 'Bacia do Amazonas'\n",
    "                   )\n",
    "          \n",
    "\n",
    "# a função go.Layout personaliza o layout do gráfico, no caso, colocando título nos eixos.\n",
    "# \"autorange=reversed\", da o comando para inverter o eixo y, no caso as profundidades, começando com 0 e os\n",
    "# aumentando p/ baixo.\n",
    "layout = go.Layout(\n",
    "            xaxis= dict(title='Distância',\n",
    "                        side ='top',\n",
    "                        color = 'white'\n",
    "                   ),\n",
    "            yaxis= dict(title='Profundidade',\n",
    "                        autorange='reversed',\n",
    "                        color = 'white'\n",
    "                   ),\n",
    "            # define o tamanho do gráfico, altura e largura, e o tamanhado da margem (l=left, r=right, b=bottom, t=top)\n",
    "            autosize=False,\n",
    "            width=900,\n",
    "            height=500,\n",
    "            margin=go.layout.Margin(\n",
    "                l=50,\n",
    "                r=30,\n",
    "                b=20,\n",
    "                t=60\n",
    "            ),\n",
    "            paper_bgcolor='#7f7f7f', #cor do background da margem\n",
    "            plot_bgcolor='#c7c7c7' #cor do backgroud do gráfico\n",
    "    )\n",
    "\n",
    "# a função go.FigureWidget cria o a figura com os parametros utilizados na go.Countour e o layout na go.Layout\n",
    "fig = go.FigureWidget(data=[imagem], layout=layout)\n",
    "\n",
    "#Selecionando as configurações dos dados de fig\n",
    "teste = fig.data[0]\n",
    "x_data = []\n",
    "y_data = []\n",
    "indx = []\n",
    "indy = []\n",
    "\n",
    "# criando a função de callback\n",
    "# para selecionar o ponto inicial e final da perfuração simulada do poço sintético \n",
    "def select_point(trace, points, selector):\n",
    "    x = list(teste.x)\n",
    "    y = list(teste.y)\n",
    "    print(selector)\n",
    "    for i in points.point_inds:\n",
    "        y_data.append(zi[i[0]])\n",
    "        x_data.append(xi[i[1]])\n",
    "        indx.append(i[1])\n",
    "        indy.append(i[0])\n",
    "        if selector.shift == True:\n",
    "            fig.add_scatter(x=x_data, y=y_data, name ='Poço MB', showlegend= True)\n",
    "\n",
    "# Sempre que clicar no gráfico chamará a função de callback\n",
    "teste.on_click(select_point)\n",
    "\n",
    "# plot a figura na tela:\n",
    "fig\n",
    "\n",
    "####### É NECESSÁRIO ESCOLHER DOIS PONTOS CLICANDO NO GRÁFICO GERADO PARA RODAR O RESTANTE DO SCRIPT #######"
   ]
  },
  {
   "cell_type": "markdown",
   "metadata": {},
   "source": [
    "## É NECESSÁRIO ESCOLHER DOIS PONTOS CLICANDO NO GRÁFICO GERADO PARA RODAR O RESTANTE DO SCRIPT "
   ]
  },
  {
   "cell_type": "markdown",
   "metadata": {},
   "source": [
    "### Criando o poço sintético"
   ]
  },
  {
   "cell_type": "code",
   "execution_count": null,
   "metadata": {},
   "outputs": [],
   "source": [
    "#apenas rodar quando escolher dois pontos clicando no gráfico acima\n",
    "#definindo a dimensão do poço sintético\n",
    "mb = (ma[indy[0]-1:indy[1], indx[0]-1:indx[0]])"
   ]
  },
  {
   "cell_type": "markdown",
   "metadata": {},
   "source": [
    "### Leitura do banco de dados de input, fornecido pelo usuario (litologias, RBG, rho)"
   ]
  },
  {
   "cell_type": "code",
   "execution_count": null,
   "metadata": {},
   "outputs": [],
   "source": [
    "cab = ['lito', 'R','G','B','A', 'rho']\n",
    "data = pd.read_csv('../dados/input_usuario.txt', sep='\\s+', names=cab, header=0 )\n",
    "data"
   ]
  },
  {
   "cell_type": "markdown",
   "metadata": {},
   "source": [
    "## Teste para comparar litologias do poço perfurado com a cor estabelecida:\n"
   ]
  },
  {
   "cell_type": "code",
   "execution_count": null,
   "metadata": {},
   "outputs": [],
   "source": [
    "# Calculando a norma euclidiana para cada litologia, distancia entre o R, G, B e A:\n",
    "D = (data.R**2 + data.G**2 + data.B**2 + data.A**2)**0.5\n",
    "#adicionando a coluna 'DistCor' na tabela de dados:\n",
    "data['DistCor'] = D\n",
    "data"
   ]
  },
  {
   "cell_type": "code",
   "execution_count": null,
   "metadata": {},
   "outputs": [],
   "source": [
    "# Calculando a norma euclidiana para cada profundidade do poço mb, distancia entre o R, G, B e A:\n",
    "# Atencao: somente vale para 1 poco! \n",
    "lito = []\n",
    "for i in range(len(mb)):\n",
    "    de = (mb[i,0,0]**2 + mb[i,0,1]**2 + mb[i,0,2]**2 + mb[i,0,3]**2)**0.5\n",
    "    lito.append(de)"
   ]
  },
  {
   "cell_type": "code",
   "execution_count": null,
   "metadata": {},
   "outputs": [],
   "source": [
    "litologias = [0.0]*len(data)\n",
    "\n",
    "for i in range (len(data)):\n",
    "    litologias[i] = [0.0]*len(mb)"
   ]
  },
  {
   "cell_type": "code",
   "execution_count": null,
   "metadata": {},
   "outputs": [],
   "source": [
    "# construindo o perfil de densidade:\n",
    "rhob = [0.0]*len(lito)\n",
    "\n",
    "for i in range(len(lito)):\n",
    "    for k in range(len(data.lito)):\n",
    "        if lito[i] == data.DistCor[k]: \n",
    "            rhob[i] = data.rho[k]\n",
    "            litologias[k][i] = k+1"
   ]
  },
  {
   "cell_type": "code",
   "execution_count": null,
   "metadata": {},
   "outputs": [],
   "source": [
    "## Adiconando ruído randômico gaussiano normal:\n",
    "rhob_noise = np.zeros( len(rhob) )\n",
    "\n",
    "for i in range(len(rhob)):\n",
    "    rhob_noise[i] = random.gauss(rhob[i], 0.6)"
   ]
  },
  {
   "cell_type": "code",
   "execution_count": null,
   "metadata": {},
   "outputs": [],
   "source": [
    "#Criando o vetor de profundidade do poço:\n",
    "prof = np.linspace(zi[indy[0]], zi[indy[1]], len(rhob))\n",
    "a = (prof[1]-prof[0])"
   ]
  },
  {
   "cell_type": "code",
   "execution_count": null,
   "metadata": {},
   "outputs": [],
   "source": [
    "# para fazer plots dentro do proprio script sem a necessidade de conexao com a internet:\n",
    "ply.offline.init_notebook_mode(connected=True)\n",
    "\n",
    "# funcao go.Scatter faz um scatter plot usando como eixo x, o singnal_RHObm criado com os dados de rhob e\n",
    "# adicionado ruído, como o eixo y, a prof criada para profunidades\n",
    "\n",
    "rhob_graph = [go.Scatter(x=rhob_noise, y=prof)]\n",
    "\n",
    "# Define o layout do plot, como título dos eixos, posição dos eixos, cor da letra, etc\n",
    "layout = go.Layout(\n",
    "    xaxis= dict(title='Propriedade Fisica',\n",
    "                side ='top',\n",
    "                color = 'white'\n",
    "               ),\n",
    "    yaxis= dict(title='Profundidade',\n",
    "                autorange='reversed',\n",
    "                color = 'white'\n",
    "               ),\n",
    "    # define o tamanho do gráfico, altura e largura, e o tamanhado da margem (l=left, r=right, b=bottom, t=top)\n",
    "    autosize=False,\n",
    "    width=400,\n",
    "    height=800,\n",
    "    margin=go.layout.Margin(\n",
    "        l=50,\n",
    "        r=30,\n",
    "        b=20,\n",
    "        t=60\n",
    "        ),\n",
    "    paper_bgcolor='#7f7f7f', #cor do background da margem\n",
    "    plot_bgcolor='#c7c7c7' #cor do backgroud do gráfico\n",
    "    )\n",
    "\n",
    "fig = go.FigureWidget(data=rhob_graph, layout=layout)\n",
    "\n",
    "fig"
   ]
  },
  {
   "cell_type": "code",
   "execution_count": null,
   "metadata": {},
   "outputs": [],
   "source": [
    "# para fazer plots dentro do proprio script sem a necessidade de conexao com a internet:\n",
    "ply.offline.init_notebook_mode(connected=True)\n",
    "\n",
    "fig = sub.make_subplots(rows=1, cols=2, subplot_titles=['Litologias', 'Perfil RHOB'], shared_yaxes=True)\n",
    "\n",
    "\n",
    "fig.add_trace(\n",
    "    go.Scatter(x=rhob_noise, y=prof, name= 'Rhob'),\n",
    "    row=1,\n",
    "    col=2\n",
    "    )\n",
    "\n",
    "fig.add_trace(\n",
    "    go.Bar(x=litologias[0], y=prof, orientation= 'h', showlegend= True, name= data.lito[0], width = a),\n",
    "    row=1,\n",
    "    col=1\n",
    "    )\n",
    "\n",
    "fig.add_trace(\n",
    "    go.Bar(x=litologias[1], y=prof, orientation= 'h', showlegend= True, name= data.lito[1], width = a),\n",
    "    row=1,\n",
    "    col=1\n",
    "    )\n",
    "\n",
    "fig.add_trace(\n",
    "    go.Bar(x=litologias[2], y=prof, orientation= 'h', showlegend= True, name= data.lito[2], width = a),\n",
    "    row=1,\n",
    "    col=1\n",
    "    )\n",
    "\n",
    "fig.add_trace(\n",
    "    go.Bar(x=litologias[3], y=prof, orientation= 'h', showlegend= True, name= data.lito[3], width = a),\n",
    "    row=1,\n",
    "    col=1\n",
    "    )\n",
    "\n",
    "fig.add_trace(\n",
    "    go.Bar(x=litologias[4], y=prof, orientation= 'h', showlegend= True, name= data.lito[4], width = a),\n",
    "    row=1,\n",
    "    col=1\n",
    "    )\n",
    "\n",
    "# Define o layout do plot, como título dos eixos, posição dos eixos, cor da letra, etc\n",
    "fig.update_layout(go.Layout(\n",
    "    xaxis= dict(\n",
    "                side ='bottom',\n",
    "                color = 'white',\n",
    "               ),\n",
    "    xaxis2= dict(\n",
    "                side ='bottom',\n",
    "                color = 'white',\n",
    "               ),\n",
    "    yaxis= dict(title='Profundidade',\n",
    "                autorange='reversed',\n",
    "                color = 'white'\n",
    "               ),\n",
    "    # define o tamanho do gráfico, altura e largura, e o tamanhado da margem (l=left, r=right, b=bottom, t=top)\n",
    "    autosize=False,\n",
    "    width=600,\n",
    "    height=800,\n",
    "    margin=go.layout.Margin(\n",
    "        l=50,\n",
    "        r=30,\n",
    "        b=20,\n",
    "        t=60\n",
    "        ),\n",
    "    paper_bgcolor='#7f7f7f', #cor do background da margem\n",
    "    plot_bgcolor='#c7c7c7', #cor do backgroud do gráfico\n",
    "    \n",
    "    font=dict(family='Courier New', size=15)\n",
    "    )\n",
    "                 )\n",
    "\n",
    "fig.show()"
   ]
  },
  {
   "cell_type": "code",
   "execution_count": null,
   "metadata": {},
   "outputs": [],
   "source": [
    "# para fazer plots dentro do proprio script sem a necessidade de conexao com a internet:\n",
    "ply.offline.init_notebook_mode(connected=True)\n",
    "\n",
    "lito_graph = go.Bar(x=litologias[0], y=prof, orientation= 'h', showlegend= True, name= data.lito[0], width = a)\n",
    "             \n",
    "rhob_graph = go.Scatter(x=rhob_noise, y=prof, name= 'Rhob', xaxis= \"x2\", yaxis=\"y2\")\n",
    "    \n",
    "# Define o layout do plot, como título dos eixos, posição dos eixos, cor da letra, etc\n",
    "fig.update_layout(go.Layout(\n",
    "    xaxis= dict(title='Litologia',\n",
    "                side ='top',\n",
    "                color = 'white',\n",
    "               ),\n",
    "    yaxis= dict(title='Profundidade',\n",
    "                autorange='reversed',\n",
    "                color = 'white'\n",
    "               ),\n",
    "    xaxis2= dict(title='Perfil RHOB',\n",
    "                side ='top',\n",
    "                color = 'white',\n",
    "               ),\n",
    "    yaxis2= dict(title='Profundidade',\n",
    "                autorange='reversed',\n",
    "                color = 'white'\n",
    "               ),\n",
    "    # define o tamanho do gráfico, altura e largura, e o tamanhado da margem (l=left, r=right, b=bottom, t=top)\n",
    "    autosize=False,\n",
    "    width=600,\n",
    "    height=800,\n",
    "    margin=go.layout.Margin(\n",
    "        l=50,\n",
    "        r=30,\n",
    "        b=20,\n",
    "        t=60\n",
    "        ),\n",
    "    paper_bgcolor='#7f7f7f', #cor do background da margem\n",
    "    plot_bgcolor='#c7c7c7', #cor do backgroud do gráfico\n",
    "    \n",
    "    font=dict(family='Courier New', size=15)\n",
    "    )\n",
    "                 )\n",
    "data_graph = [lito_graph, rhob_graph]\n",
    "\n",
    "fig = go.Figure(data=data_graph, layout=layout)\n",
    "\n",
    "fig.show()"
   ]
  },
  {
   "cell_type": "code",
   "execution_count": null,
   "metadata": {},
   "outputs": [],
   "source": [
    "plt.figure(figsize=(8,10))\n",
    "plt.fill_betweenx(prof, litologias[0], step = 'pre', color = 'gold', label = data.lito[0])\n",
    "plt.fill_betweenx(prof, litologias[1], step = 'pre', color = 'sandybrown', label = data.lito[1])\n",
    "plt.fill_betweenx(prof, litologias[2], step = 'pre', color = 'olive', label = data.lito[2])\n",
    "plt.fill_betweenx(prof, litologias[3], step = 'pre', color = 'darkgreen', label = data.lito[3])\n",
    "plt.fill_betweenx(prof, litologias[4], step = 'pre', color = 'blue', label = data.lito[4])\n",
    "plt.legend()\n",
    "plt.title('Litologias')\n",
    "plt.gca().invert_yaxis()\n",
    "plt.grid()\n",
    "plt.show()"
   ]
  },
  {
   "cell_type": "markdown",
   "metadata": {},
   "source": [
    "## TODO:\n",
    "### 1) Criar poços direcionais (futuro);\n",
    "### 2) fazer o perfil de VS a partir de rhob (Gardner)"
   ]
  },
  {
   "cell_type": "markdown",
   "metadata": {},
   "source": [
    "# Para saber mais sobre a Plotly:\n",
    "\n",
    "### https://plot.ly/python/\n",
    "### https://plot.ly/python/contour-plots/\n",
    "### https://plot.ly/python/click-events/#update-points-using-a-click-callback"
   ]
  }
 ],
 "metadata": {
  "kernelspec": {
   "display_name": "Python 3",
   "language": "python",
   "name": "python3"
  },
  "language_info": {
   "codemirror_mode": {
    "name": "ipython",
    "version": 3
   },
   "file_extension": ".py",
   "mimetype": "text/x-python",
   "name": "python",
   "nbconvert_exporter": "python",
   "pygments_lexer": "ipython3",
   "version": "3.7.1"
  }
 },
 "nbformat": 4,
 "nbformat_minor": 2
}
